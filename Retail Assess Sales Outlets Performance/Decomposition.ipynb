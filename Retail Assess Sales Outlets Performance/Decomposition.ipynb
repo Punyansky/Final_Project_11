{
 "cells": [
  {
   "cell_type": "markdown",
   "id": "95135e23",
   "metadata": {},
   "source": [
    "<div class=\"alert alert-success\"> <b>Team Lead comment:</b>Great plan! Loved your hypotheses! Very on point! Can't wait to see the final project!\n",
    "   \n",
    "</div>"
   ]
  },
  {
   "cell_type": "markdown",
   "id": "750ba2a2",
   "metadata": {},
   "source": [
    "### PROJECT : E-Commerce Product Range Analysis\n",
    "#### AIM: Identify promising products and products bundle to boost profit and customer satisfaction \n",
    "<br>\n",
    "\n",
    "**Part 1:  Data Overview and Preprocessing**\n",
    "<br>\n",
    "\n",
    "\n",
    "- Data loading and Overviewing\n",
    "- Check missing, duplicated, abnormal data\n",
    "- Data precalculations\n",
    "<br>\n",
    "\n",
    "**Part 2:  RFM (Recency / Frequency / Monetary)**\n",
    "<br>\n",
    "\n",
    "\n",
    "- Frequency of orders by month\n",
    "- Frequency of orders by week\n",
    "- Frequency of orders by hour of day(AM / PM) \n",
    "- Frequency of distribution by previous order\n",
    "<br>\n",
    "\n",
    "**Part 3: Product Bundle Analysis**\n",
    "<br>\n",
    "\n",
    "\n",
    "- Categorize invoice based on variety and size\n",
    "- Study invoice variety (number of products) and size (total revenue) distribution\n",
    "<br>\n",
    "\n",
    "**Part 4:  Product Description Analysis**\n",
    "<br>\n",
    "\n",
    "- Identified keywords in product description\n",
    "- Study keywords:Build a general function for repeated use (Which keywords are popular, which areunique? Which keywords often appear together in the same group?)\n",
    "<br>\n",
    "\n",
    "**Part 5:   Statistical Hypotheses Test**\n",
    "<br>\n",
    "\n",
    "\n",
    "- Does distribution of product groups change at different time of the day (AM / PM)?\n",
    "- Are the number of orders with high amount of low cost product is the same as orders with low amount of high cost products?  \n",
    "<br>\n",
    "\n",
    "\n",
    "\n",
    "**Part 6:    Summary and Suggestion**\n"
   ]
  },
  {
   "cell_type": "code",
   "execution_count": null,
   "id": "e2946541",
   "metadata": {},
   "outputs": [],
   "source": []
  }
 ],
 "metadata": {
  "kernelspec": {
   "display_name": "Python 3 (ipykernel)",
   "language": "python",
   "name": "python3"
  },
  "language_info": {
   "codemirror_mode": {
    "name": "ipython",
    "version": 3
   },
   "file_extension": ".py",
   "mimetype": "text/x-python",
   "name": "python",
   "nbconvert_exporter": "python",
   "pygments_lexer": "ipython3",
   "version": "3.9.5"
  },
  "toc": {
   "base_numbering": 1,
   "nav_menu": {},
   "number_sections": true,
   "sideBar": true,
   "skip_h1_title": true,
   "title_cell": "Table of Contents",
   "title_sidebar": "Contents",
   "toc_cell": false,
   "toc_position": {},
   "toc_section_display": true,
   "toc_window_display": false
  }
 },
 "nbformat": 4,
 "nbformat_minor": 5
}
