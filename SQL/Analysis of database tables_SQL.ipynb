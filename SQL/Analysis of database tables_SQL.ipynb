{
 "cells": [
  {
   "cell_type": "markdown",
   "id": "56b77d14",
   "metadata": {},
   "source": [
    "## SQL Final Project"
   ]
  },
  {
   "cell_type": "markdown",
   "id": "92b81175",
   "metadata": {},
   "source": [
    "The coronavirus took the entire world by surprise, changing everyone's daily routine. City dwellers no longer spent their free time outside, going to cafes and malls; more people were at home, reading books. That attracted the attention of startups that rushed to develop new apps for book lovers. "
   ]
  },
  {
   "cell_type": "markdown",
   "id": "9d164884",
   "metadata": {},
   "source": [
    "You've been given a database of one of the services competing in this market. It contains data on books, publishers, authors, and customer ratings and reviews of books. This information will be used to generate a value proposition for a new product. "
   ]
  },
  {
   "cell_type": "markdown",
   "id": "77a87739",
   "metadata": {},
   "source": [
    "### Description of the data\n",
    "**books:**\n",
    "<br>\n",
    "Contains data on books:\n",
    "\n",
    "   - **book_id**\n",
    "   - **author_id**\n",
    "   - **title**\n",
    "   - **num_pages** — number of pages\n",
    "   - **publication_date**\n",
    "   - **publisher_id**\n",
    "<br>\n",
    "\n",
    "**authors:**\n",
    "<br>\n",
    "Contains data on authors:\n",
    "\n",
    "   - **author_id**\n",
    "   - **author**\n",
    "<br>\n",
    "\n",
    "**publishers:**\n",
    "<br>\n",
    "Contains data on publishers:\n",
    "\n",
    "   - **publisher_id**\n",
    "   - **publisher**\n",
    "<br>\n",
    "\n",
    "**ratings:**\n",
    "<br>\n",
    "Contains data on user ratings:\n",
    "\n",
    "   - **rating_id**\n",
    "   - **book_id**\n",
    "   - **username** — the name of the user who rated the book\n",
    "   - **rating**\n",
    "<br>\n",
    "\n",
    "**reviews:**\n",
    "<br>\n",
    "Contains data on customer reviews:\n",
    "\n",
    "   - **review_id**\n",
    "   - **book_id**\n",
    "   - **username** — the name of the user who reviewed the book\n",
    "   - **text** — the text of the review"
   ]
  },
  {
   "cell_type": "code",
   "execution_count": null,
   "id": "e01dd293",
   "metadata": {},
   "outputs": [],
   "source": [
    "from IPython.display import Image\n",
    "from IPython.core.display import HTML "
   ]
  },
  {
   "cell_type": "code",
   "execution_count": null,
   "id": "dfeff6b8",
   "metadata": {},
   "outputs": [],
   "source": [
    "Image(url= \"https://pictures.s3.yandex.net/resources/Untitled_-_2020-07-02T142019.920_1593688954.png\")"
   ]
  },
  {
   "cell_type": "code",
   "execution_count": null,
   "id": "7a71e146",
   "metadata": {},
   "outputs": [],
   "source": [
    "import pandas as pd\n",
    "from sqlalchemy import create_engine\n"
   ]
  },
  {
   "cell_type": "code",
   "execution_count": null,
   "id": "d6a1a7c4",
   "metadata": {},
   "outputs": [],
   "source": [
    "pip install psycopg2-binary "
   ]
  },
  {
   "cell_type": "code",
   "execution_count": null,
   "id": "eee8198c",
   "metadata": {},
   "outputs": [],
   "source": [
    "db_config = {'user': 'praktikum_student',         # user name\n",
    "             'pwd': 'Sdf4$2;d-d30pp', # password\n",
    "             'host': 'rc1b-wcoijxj3yxfsf3fs.mdb.yandexcloud.net',\n",
    "             'port': 6432,              # connection port\n",
    "             'db': 'data-analyst-final-project-db'}          # the name of the data base\n",
    "\n",
    "connection_string = 'postgresql://{}:{}@{}:{}/{}'.format(db_config['user'],\n",
    "                                                                     db_config['pwd'],\n",
    "                                                                       db_config['host'],\n",
    "                                                                       db_config['port'],\n",
    "                                                                       db_config['db'])\n",
    "\n",
    "engine = create_engine(connection_string, connect_args={'sslmode':'require'})"
   ]
  },
  {
   "cell_type": "markdown",
   "id": "6484de7d",
   "metadata": {},
   "source": [
    "### Study the tables "
   ]
  },
  {
   "cell_type": "code",
   "execution_count": null,
   "id": "0618a412",
   "metadata": {},
   "outputs": [],
   "source": [
    "query=\"\"\"\n",
    "SELECT * \n",
    "FROM books \n",
    "LIMIT 5;\n",
    "\"\"\"\n",
    "pd.io.sql.read_sql(query, con = engine)"
   ]
  },
  {
   "cell_type": "code",
   "execution_count": null,
   "id": "63fa0313",
   "metadata": {},
   "outputs": [],
   "source": [
    "query=\"\"\"\n",
    "SELECT * \n",
    "FROM authors \n",
    "LIMIT 5;\n",
    "\"\"\"\n",
    "pd.io.sql.read_sql(query, con = engine)"
   ]
  },
  {
   "cell_type": "code",
   "execution_count": null,
   "id": "bca99713",
   "metadata": {},
   "outputs": [],
   "source": [
    "query=\"\"\"\n",
    "SELECT * \n",
    "FROM publishers \n",
    "LIMIT 5;\n",
    "\"\"\"\n",
    "pd.io.sql.read_sql(query, con = engine)"
   ]
  },
  {
   "cell_type": "code",
   "execution_count": null,
   "id": "539286aa",
   "metadata": {},
   "outputs": [],
   "source": [
    "query=\"\"\"\n",
    "SELECT * \n",
    "FROM ratings \n",
    "LIMIT 5;\n",
    "\"\"\"\n",
    "pd.io.sql.read_sql(query, con = engine)"
   ]
  },
  {
   "cell_type": "code",
   "execution_count": null,
   "id": "d847da8b",
   "metadata": {
    "scrolled": true
   },
   "outputs": [],
   "source": [
    "query=\"\"\"\n",
    "SELECT * \n",
    "FROM reviews \n",
    "LIMIT 5;\n",
    "\"\"\"\n",
    "pd.io.sql.read_sql(query, con = engine)"
   ]
  },
  {
   "cell_type": "markdown",
   "id": "fcbb8d3f",
   "metadata": {},
   "source": [
    "### Conclusion:"
   ]
  },
  {
   "cell_type": "markdown",
   "id": "6ccc604a",
   "metadata": {},
   "source": [
    "We can understand that **books** will be our main table, connected by its primary key in a one to one (according to the drawings) connection. the **books** has 3 ID columns for **publisher**, **book** and **author**. Connected to **ratings** and **reviews** by **book_id**, to **publishers** by **publisher_id** and to **authors** by **authora_id**."
   ]
  },
  {
   "cell_type": "markdown",
   "id": "bce4e9be",
   "metadata": {},
   "source": [
    "## Make an SQL query for each of the tasks"
   ]
  },
  {
   "cell_type": "markdown",
   "id": "835aa9d1",
   "metadata": {},
   "source": [
    "### Find the number of books released after January 1, 2000."
   ]
  },
  {
   "cell_type": "code",
   "execution_count": null,
   "id": "bd771830",
   "metadata": {
    "scrolled": true
   },
   "outputs": [],
   "source": [
    "query=\"\"\"\n",
    "SELECT\n",
    "    DISTINCT(COUNT(title)) AS nomber_of_books\n",
    "FROM \n",
    "   books\n",
    "WHERE\n",
    "   publication_date > '2000-01-01';\n",
    "\"\"\"\n",
    "pd.io.sql.read_sql(query, con = engine)"
   ]
  },
  {
   "cell_type": "markdown",
   "id": "044df502",
   "metadata": {},
   "source": [
    "**There are 819 books released after January 1, 2000.**"
   ]
  },
  {
   "cell_type": "markdown",
   "id": "c6d1ed3c",
   "metadata": {},
   "source": [
    "### Find the number of user reviews and the average rating for each book."
   ]
  },
  {
   "cell_type": "markdown",
   "id": "744ddec0",
   "metadata": {},
   "source": [
    "**AVG rating**"
   ]
  },
  {
   "cell_type": "code",
   "execution_count": null,
   "id": "bdcec06a",
   "metadata": {},
   "outputs": [],
   "source": [
    "##query=\"\"\"\n",
    "##SELECT\n",
    "    ##books.book_id,\n",
    "    ##books.title,\n",
    "    ##AVG(rating) AS average_rating,\n",
    "    ##COUNT(DISTINCT(rating_id)) AS number_of_ratings\n",
    "##FROM books\n",
    "##INNER JOIN ratings USING(book_id)\n",
    "##GROUP BY books.book_id\n",
    "##ORDER BY  number_of_ratings DESC,average_rating DESC, title;\n",
    "##\"\"\"\n",
    "##pd.io.sql.read_sql(query, con = engine)"
   ]
  },
  {
   "cell_type": "markdown",
   "id": "545939f2",
   "metadata": {},
   "source": [
    "**AVG rating**"
   ]
  },
  {
   "cell_type": "code",
   "execution_count": null,
   "id": "a2b29638",
   "metadata": {
    "scrolled": false
   },
   "outputs": [],
   "source": [
    "##query=\"\"\"\n",
    "##SELECT\n",
    "    ##books.book_id,\n",
    "    ##books.title,\n",
    "    ##AVG(rating) AS average_rating,\n",
    "    ##COUNT(DISTINCT(review_id)) AS number_of_reviws\n",
    "##FROM books\n",
    "##INNER JOIN reviews USING(book_id)\n",
    "##INNER JOIN ratings USING(book_id)\n",
    "##GROUP BY books.book_id\n",
    "##--ORDER BY  average_rating DESC,number_of_reviws DESC, title;\n",
    "##\"\"\"\n",
    "##pd.io.sql.read_sql(query, con = engine)"
   ]
  },
  {
   "cell_type": "code",
   "execution_count": null,
   "id": "6c41db4d",
   "metadata": {},
   "outputs": [],
   "source": [
    "query=\"\"\"\n",
    "SELECT\n",
    "    re.book_id,\n",
    "    title,\n",
    "    re.review_count,\n",
    "ra.avg_rating FROM books\n",
    "LEFT JOIN (SELECT book_id, COUNT(text) AS review_count FROM reviews GROUP BY book_id) AS re ON books.book_id = re.book_id\n",
    "LEFT JOIN (SELECT book_id, AVG(rating) AS avg_rating  FROM ratings GROUP BY book_id) AS ra ON re.book_id = ra.book_id\n",
    "\"\"\"\n",
    "pd.io.sql.read_sql(query, con = engine)"
   ]
  },
  {
   "cell_type": "markdown",
   "id": "0defb353",
   "metadata": {},
   "source": [
    "**We have 2 books with best performance, with average ratings with 4 and 5. Thoue A Dirty Job (Grim Reaper #1) and School's Out—Forever (Maximum Ride #2). There are 1000 books, we maybe miss ingormation about 6 for reviews. We have two options for reviews and rating counts.**"
   ]
  },
  {
   "cell_type": "markdown",
   "id": "7d1e8f22",
   "metadata": {},
   "source": [
    "### Identify the publisher that has released the greatest number of books with more than 50 pages (this will help you exclude brochures and similar publications from your analysis)."
   ]
  },
  {
   "cell_type": "code",
   "execution_count": null,
   "id": "46a73598",
   "metadata": {},
   "outputs": [],
   "source": [
    "query=\"\"\"\n",
    "SELECT\n",
    "    books.publisher_id,\n",
    "    publishers.publisher,\n",
    "    COUNT(books.title) AS number_of_books\n",
    "FROM publishers\n",
    "INNER JOIN books ON publishers.publisher_id = books.publisher_id\n",
    "WHERE books.num_pages > 50\n",
    "GROUP BY books.publisher_id,publishers.publisher \n",
    "ORDER BY number_of_books DESC\n",
    "LIMIT 1;\n",
    "\"\"\"\n",
    "pd.io.sql.read_sql(query, con = engine)"
   ]
  },
  {
   "cell_type": "markdown",
   "id": "adc48834",
   "metadata": {},
   "source": [
    "**The publisher that has released the greatest number of books with more than 50 pages is Penguin Books(id 212) with 42 books.**"
   ]
  },
  {
   "cell_type": "markdown",
   "id": "51a7e63b",
   "metadata": {},
   "source": [
    "### Identify the author with the highest average book rating (look only at books with at least 50 ratings)."
   ]
  },
  {
   "cell_type": "code",
   "execution_count": null,
   "id": "6412964f",
   "metadata": {
    "scrolled": false
   },
   "outputs": [],
   "source": [
    "query=\"\"\"\n",
    "SELECT\n",
    "    books.author_id,\n",
    "    authors.author,\n",
    "    books.title,\n",
    "    AVG(ratings.rating) AS average_rating,\n",
    "    COUNT(ratings.rating_id) AS rating_anount\n",
    "FROM books\n",
    "INNER JOIN authors ON authors.author_id = books.author_id\n",
    "INNER JOIN ratings ON books.book_id = ratings.book_id\n",
    "GROUP BY books.author_id,books.title,authors.author\n",
    "HAVING COUNT(ratings.rating_id) >= 50\n",
    " \n",
    "ORDER BY average_rating DESC\n",
    "LIMIT 1;\n",
    "\"\"\"\n",
    "pd.io.sql.read_sql(query, con = engine)"
   ]
  },
  {
   "cell_type": "markdown",
   "id": "1f8ca5bc",
   "metadata": {},
   "source": [
    "**The author with the highest average book rating is J.K. Rowling/Mary GrandPré(id 236) with Harry Potter and the Prisoner of Azkaban having 4.414634 averege rating and 82 ratings published.**"
   ]
  },
  {
   "cell_type": "markdown",
   "id": "34dfc211",
   "metadata": {},
   "source": [
    "### Find the average number of text reviews among users who rated more than 50 books."
   ]
  },
  {
   "cell_type": "code",
   "execution_count": null,
   "id": "1f250aab",
   "metadata": {},
   "outputs": [],
   "source": [
    "query=\"\"\"\n",
    "SELECT\n",
    "    AVG(COUNT(DISTINCT(reviews.review_id))) OVER () AS averege_number_of_reviews\n",
    "FROM reviews\n",
    "INNER JOIN ratings ON reviews.username = ratings.username\n",
    "\n",
    "GROUP BY ratings.username\n",
    "HAVING COUNT(DISTINCT(ratings.rating_id)) > 50\n",
    " \n",
    "LIMIT 1;\n",
    "\"\"\"\n",
    "pd.io.sql.read_sql(query, con = engine)"
   ]
  },
  {
   "cell_type": "markdown",
   "id": "dff51f05",
   "metadata": {},
   "source": [
    "**Average number of text reviews among users who rated more than 50 books is 24.333333 rating per user.**"
   ]
  },
  {
   "cell_type": "markdown",
   "id": "8285d4d6",
   "metadata": {},
   "source": [
    "## Final Conclusion:"
   ]
  },
  {
   "cell_type": "markdown",
   "id": "1dd45b42",
   "metadata": {},
   "source": [
    "- **There are 821 books released after January 1, 2000.**\n",
    "- **We have 2 books with best performance, with average ratings with 4 and 5. Thoue A Dirty Job (Grim Reaper #1) and School's Out—Forever (Maximum Ride #2). There are 1000 books, we maybe miss ingormation about 6 for reviews. We have two options for reviews and rating counts.**\n",
    "- **The publisher  that has released the greatest number of books with more than 50 pages  is Penguin Books(id 212) with 42 books.**\n",
    "- **The author with the highest average book rating is J.K. Rowling/Mary GrandPré(id 236) with Harry Potter and the Prisoner of Azkaban having 4.414634 averege rating and 82 ratings published.**\n",
    "- **Average number of text reviews among users who rated more than 50 books is 24.333333 rating per user.**"
   ]
  }
 ],
 "metadata": {
  "ExecuteTimeLog": [
   {
    "duration": 7,
    "start_time": "2022-06-24T17:28:12.519Z"
   },
   {
    "duration": 10,
    "start_time": "2022-06-24T17:28:12.528Z"
   },
   {
    "duration": 536,
    "start_time": "2022-06-24T17:28:12.539Z"
   },
   {
    "duration": 2307,
    "start_time": "2022-06-24T17:28:13.076Z"
   },
   {
    "duration": 11527,
    "start_time": "2022-06-24T17:28:15.386Z"
   },
   {
    "duration": 259,
    "start_time": "2022-06-24T17:28:26.914Z"
   },
   {
    "duration": 75,
    "start_time": "2022-06-24T17:28:27.175Z"
   },
   {
    "duration": 75,
    "start_time": "2022-06-24T17:28:27.252Z"
   },
   {
    "duration": 77,
    "start_time": "2022-06-24T17:28:27.329Z"
   },
   {
    "duration": 76,
    "start_time": "2022-06-24T17:28:27.408Z"
   },
   {
    "duration": 75,
    "start_time": "2022-06-24T17:28:27.486Z"
   },
   {
    "duration": 111,
    "start_time": "2022-06-24T17:28:27.563Z"
   },
   {
    "duration": 103,
    "start_time": "2022-06-24T17:28:27.676Z"
   },
   {
    "duration": 85,
    "start_time": "2022-06-24T17:28:27.788Z"
   },
   {
    "duration": 84,
    "start_time": "2022-06-24T17:28:27.874Z"
   },
   {
    "duration": 106,
    "start_time": "2022-06-24T17:28:27.960Z"
   },
   {
    "duration": 133,
    "start_time": "2022-06-24T18:01:24.632Z"
   },
   {
    "duration": 12,
    "start_time": "2022-06-24T18:41:03.910Z"
   },
   {
    "duration": 54,
    "start_time": "2022-06-24T18:41:03.924Z"
   },
   {
    "duration": 594,
    "start_time": "2022-06-24T18:41:03.980Z"
   },
   {
    "duration": 5837,
    "start_time": "2022-06-24T18:41:04.578Z"
   },
   {
    "duration": 10208,
    "start_time": "2022-06-24T18:41:10.418Z"
   },
   {
    "duration": 478,
    "start_time": "2022-06-24T18:41:20.629Z"
   },
   {
    "duration": 97,
    "start_time": "2022-06-24T18:41:21.109Z"
   },
   {
    "duration": 108,
    "start_time": "2022-06-24T18:41:21.207Z"
   },
   {
    "duration": 103,
    "start_time": "2022-06-24T18:41:21.316Z"
   },
   {
    "duration": 102,
    "start_time": "2022-06-24T18:41:21.422Z"
   },
   {
    "duration": 108,
    "start_time": "2022-06-24T18:41:21.528Z"
   },
   {
    "duration": 207,
    "start_time": "2022-06-24T18:41:21.638Z"
   },
   {
    "duration": 188,
    "start_time": "2022-06-24T18:41:21.847Z"
   },
   {
    "duration": 139,
    "start_time": "2022-06-24T18:41:22.037Z"
   },
   {
    "duration": 105,
    "start_time": "2022-06-24T18:41:22.178Z"
   },
   {
    "duration": 138,
    "start_time": "2022-06-24T18:41:22.285Z"
   },
   {
    "duration": 70,
    "start_time": "2022-06-24T18:56:43.457Z"
   },
   {
    "duration": 113,
    "start_time": "2022-06-24T18:57:10.252Z"
   },
   {
    "duration": 93,
    "start_time": "2022-06-24T18:58:04.881Z"
   },
   {
    "duration": 265,
    "start_time": "2022-06-24T19:05:26.355Z"
   },
   {
    "duration": 157,
    "start_time": "2022-06-24T19:06:45.414Z"
   },
   {
    "duration": 9,
    "start_time": "2022-06-24T19:09:31.819Z"
   },
   {
    "duration": 18,
    "start_time": "2022-06-24T19:09:31.831Z"
   },
   {
    "duration": 547,
    "start_time": "2022-06-24T19:09:31.851Z"
   },
   {
    "duration": 2166,
    "start_time": "2022-06-24T19:09:32.401Z"
   },
   {
    "duration": 16,
    "start_time": "2022-06-24T19:12:24.651Z"
   },
   {
    "duration": 27,
    "start_time": "2022-06-24T19:12:24.670Z"
   },
   {
    "duration": 566,
    "start_time": "2022-06-24T19:12:24.699Z"
   },
   {
    "duration": 2004,
    "start_time": "2022-06-24T19:12:25.268Z"
   },
   {
    "duration": 5916,
    "start_time": "2022-06-24T19:12:27.274Z"
   },
   {
    "duration": 248,
    "start_time": "2022-06-24T19:12:33.191Z"
   },
   {
    "duration": 74,
    "start_time": "2022-06-24T19:12:33.441Z"
   },
   {
    "duration": 74,
    "start_time": "2022-06-24T19:12:33.517Z"
   },
   {
    "duration": 74,
    "start_time": "2022-06-24T19:12:33.593Z"
   },
   {
    "duration": 74,
    "start_time": "2022-06-24T19:12:33.670Z"
   },
   {
    "duration": 73,
    "start_time": "2022-06-24T19:12:33.745Z"
   },
   {
    "duration": 132,
    "start_time": "2022-06-24T19:12:33.820Z"
   },
   {
    "duration": 119,
    "start_time": "2022-06-24T19:12:33.954Z"
   },
   {
    "duration": 72,
    "start_time": "2022-06-24T19:12:34.075Z"
   },
   {
    "duration": 79,
    "start_time": "2022-06-24T19:12:34.149Z"
   },
   {
    "duration": 103,
    "start_time": "2022-06-24T19:12:34.229Z"
   },
   {
    "duration": 15,
    "start_time": "2022-06-25T11:45:22.788Z"
   },
   {
    "duration": 13,
    "start_time": "2022-06-25T11:45:22.804Z"
   },
   {
    "duration": 523,
    "start_time": "2022-06-25T11:45:22.818Z"
   },
   {
    "duration": 2643,
    "start_time": "2022-06-25T11:45:23.343Z"
   },
   {
    "duration": 10982,
    "start_time": "2022-06-25T11:45:25.987Z"
   },
   {
    "duration": 337,
    "start_time": "2022-06-25T11:45:36.970Z"
   },
   {
    "duration": 97,
    "start_time": "2022-06-25T11:45:37.309Z"
   },
   {
    "duration": 97,
    "start_time": "2022-06-25T11:45:37.409Z"
   },
   {
    "duration": 96,
    "start_time": "2022-06-25T11:45:37.509Z"
   },
   {
    "duration": 84,
    "start_time": "2022-06-25T11:45:37.608Z"
   },
   {
    "duration": 92,
    "start_time": "2022-06-25T11:45:37.694Z"
   },
   {
    "duration": 128,
    "start_time": "2022-06-25T11:45:37.790Z"
   },
   {
    "duration": 104,
    "start_time": "2022-06-25T11:45:37.919Z"
   },
   {
    "duration": 96,
    "start_time": "2022-06-25T11:45:38.025Z"
   },
   {
    "duration": 100,
    "start_time": "2022-06-25T11:45:38.122Z"
   },
   {
    "duration": 118,
    "start_time": "2022-06-25T11:45:38.223Z"
   },
   {
    "duration": 68,
    "start_time": "2022-06-25T13:21:37.482Z"
   },
   {
    "duration": 12,
    "start_time": "2022-06-25T13:21:45.856Z"
   },
   {
    "duration": 15,
    "start_time": "2022-06-25T13:21:45.871Z"
   },
   {
    "duration": 630,
    "start_time": "2022-06-25T13:21:45.888Z"
   },
   {
    "duration": 2366,
    "start_time": "2022-06-25T13:21:46.520Z"
   },
   {
    "duration": 6396,
    "start_time": "2022-06-25T13:21:48.889Z"
   },
   {
    "duration": 291,
    "start_time": "2022-06-25T13:21:55.287Z"
   },
   {
    "duration": 80,
    "start_time": "2022-06-25T13:21:55.580Z"
   },
   {
    "duration": 74,
    "start_time": "2022-06-25T13:21:55.663Z"
   },
   {
    "duration": 73,
    "start_time": "2022-06-25T13:21:55.743Z"
   },
   {
    "duration": 72,
    "start_time": "2022-06-25T13:21:55.818Z"
   },
   {
    "duration": 78,
    "start_time": "2022-06-25T13:21:55.892Z"
   },
   {
    "duration": 209,
    "start_time": "2022-06-25T13:21:55.972Z"
   },
   {
    "duration": 0,
    "start_time": "2022-06-25T13:21:56.183Z"
   },
   {
    "duration": 0,
    "start_time": "2022-06-25T13:21:56.185Z"
   },
   {
    "duration": 0,
    "start_time": "2022-06-25T13:21:56.186Z"
   },
   {
    "duration": 0,
    "start_time": "2022-06-25T13:21:56.188Z"
   },
   {
    "duration": 97,
    "start_time": "2022-06-25T13:22:17.065Z"
   },
   {
    "duration": 158,
    "start_time": "2022-06-25T13:23:23.263Z"
   },
   {
    "duration": 111,
    "start_time": "2022-06-25T13:24:01.662Z"
   },
   {
    "duration": 105,
    "start_time": "2022-06-25T13:25:25.663Z"
   },
   {
    "duration": 137,
    "start_time": "2022-06-25T13:25:51.542Z"
   },
   {
    "duration": 106,
    "start_time": "2022-06-25T13:26:02.066Z"
   },
   {
    "duration": 8,
    "start_time": "2022-06-25T17:32:17.728Z"
   },
   {
    "duration": 13,
    "start_time": "2022-06-25T17:32:17.738Z"
   },
   {
    "duration": 501,
    "start_time": "2022-06-25T17:32:17.752Z"
   },
   {
    "duration": 2326,
    "start_time": "2022-06-25T17:32:18.254Z"
   },
   {
    "duration": 9402,
    "start_time": "2022-06-25T17:32:20.584Z"
   },
   {
    "duration": 228,
    "start_time": "2022-06-25T17:32:29.988Z"
   },
   {
    "duration": 66,
    "start_time": "2022-06-25T17:32:30.218Z"
   },
   {
    "duration": 67,
    "start_time": "2022-06-25T17:32:30.286Z"
   },
   {
    "duration": 68,
    "start_time": "2022-06-25T17:32:30.355Z"
   },
   {
    "duration": 68,
    "start_time": "2022-06-25T17:32:30.426Z"
   },
   {
    "duration": 68,
    "start_time": "2022-06-25T17:32:30.496Z"
   },
   {
    "duration": 96,
    "start_time": "2022-06-25T17:32:30.566Z"
   },
   {
    "duration": 91,
    "start_time": "2022-06-25T17:32:30.664Z"
   },
   {
    "duration": 69,
    "start_time": "2022-06-25T17:32:30.757Z"
   },
   {
    "duration": 77,
    "start_time": "2022-06-25T17:32:30.828Z"
   },
   {
    "duration": 98,
    "start_time": "2022-06-25T17:32:30.907Z"
   },
   {
    "duration": 96,
    "start_time": "2022-06-25T17:32:47.095Z"
   },
   {
    "duration": 93,
    "start_time": "2022-06-25T17:32:53.564Z"
   },
   {
    "duration": 93,
    "start_time": "2022-06-25T17:32:58.407Z"
   },
   {
    "duration": 96,
    "start_time": "2022-06-25T18:33:34.218Z"
   },
   {
    "duration": 116,
    "start_time": "2022-06-25T18:33:44.158Z"
   },
   {
    "duration": 93,
    "start_time": "2022-06-25T18:34:31.574Z"
   },
   {
    "duration": 101,
    "start_time": "2022-06-25T18:34:35.551Z"
   },
   {
    "duration": 130,
    "start_time": "2022-06-25T18:58:58.334Z"
   },
   {
    "duration": 115,
    "start_time": "2022-06-25T18:59:08.360Z"
   },
   {
    "duration": 143,
    "start_time": "2022-06-25T19:02:09.397Z"
   },
   {
    "duration": 141,
    "start_time": "2022-06-25T19:02:17.567Z"
   },
   {
    "duration": 97,
    "start_time": "2022-06-25T19:03:10.311Z"
   },
   {
    "duration": 9,
    "start_time": "2022-06-25T20:20:29.202Z"
   },
   {
    "duration": 13,
    "start_time": "2022-06-25T20:20:29.213Z"
   },
   {
    "duration": 560,
    "start_time": "2022-06-25T20:20:29.228Z"
   },
   {
    "duration": 2757,
    "start_time": "2022-06-25T20:20:29.790Z"
   },
   {
    "duration": 9916,
    "start_time": "2022-06-25T20:20:32.548Z"
   },
   {
    "duration": 223,
    "start_time": "2022-06-25T20:20:42.465Z"
   },
   {
    "duration": 65,
    "start_time": "2022-06-25T20:20:42.689Z"
   },
   {
    "duration": 64,
    "start_time": "2022-06-25T20:20:42.756Z"
   },
   {
    "duration": 80,
    "start_time": "2022-06-25T20:20:42.822Z"
   },
   {
    "duration": 71,
    "start_time": "2022-06-25T20:20:42.906Z"
   },
   {
    "duration": 66,
    "start_time": "2022-06-25T20:20:42.978Z"
   },
   {
    "duration": 97,
    "start_time": "2022-06-25T20:20:43.045Z"
   },
   {
    "duration": 84,
    "start_time": "2022-06-25T20:20:43.144Z"
   },
   {
    "duration": 66,
    "start_time": "2022-06-25T20:20:43.230Z"
   },
   {
    "duration": 71,
    "start_time": "2022-06-25T20:20:43.297Z"
   },
   {
    "duration": 94,
    "start_time": "2022-06-25T20:20:43.370Z"
   },
   {
    "duration": 101,
    "start_time": "2022-06-25T21:19:00.187Z"
   },
   {
    "duration": 96,
    "start_time": "2022-06-25T21:19:03.413Z"
   },
   {
    "duration": 101,
    "start_time": "2022-06-25T21:19:34.435Z"
   },
   {
    "duration": 7,
    "start_time": "2022-06-26T04:35:42.368Z"
   },
   {
    "duration": 13,
    "start_time": "2022-06-26T04:35:42.377Z"
   },
   {
    "duration": 518,
    "start_time": "2022-06-26T04:35:42.391Z"
   },
   {
    "duration": 2328,
    "start_time": "2022-06-26T04:35:42.911Z"
   },
   {
    "duration": 5880,
    "start_time": "2022-06-26T04:35:45.241Z"
   },
   {
    "duration": 261,
    "start_time": "2022-06-26T04:35:51.123Z"
   },
   {
    "duration": 78,
    "start_time": "2022-06-26T04:35:51.386Z"
   },
   {
    "duration": 84,
    "start_time": "2022-06-26T04:35:51.466Z"
   },
   {
    "duration": 76,
    "start_time": "2022-06-26T04:35:51.552Z"
   },
   {
    "duration": 80,
    "start_time": "2022-06-26T04:35:51.630Z"
   },
   {
    "duration": 79,
    "start_time": "2022-06-26T04:35:51.712Z"
   },
   {
    "duration": 3,
    "start_time": "2022-06-26T04:35:51.793Z"
   },
   {
    "duration": 119,
    "start_time": "2022-06-26T04:35:51.798Z"
   },
   {
    "duration": 96,
    "start_time": "2022-06-26T04:35:51.919Z"
   },
   {
    "duration": 78,
    "start_time": "2022-06-26T04:35:52.017Z"
   },
   {
    "duration": 83,
    "start_time": "2022-06-26T04:35:52.097Z"
   },
   {
    "duration": 106,
    "start_time": "2022-06-26T04:35:52.182Z"
   },
   {
    "duration": 8,
    "start_time": "2022-06-26T04:36:48.008Z"
   },
   {
    "duration": 11,
    "start_time": "2022-06-26T04:36:48.019Z"
   },
   {
    "duration": 508,
    "start_time": "2022-06-26T04:36:48.032Z"
   },
   {
    "duration": 2042,
    "start_time": "2022-06-26T04:36:48.542Z"
   },
   {
    "duration": 5507,
    "start_time": "2022-06-26T04:36:50.588Z"
   },
   {
    "duration": 256,
    "start_time": "2022-06-26T04:36:56.097Z"
   },
   {
    "duration": 72,
    "start_time": "2022-06-26T04:36:56.354Z"
   },
   {
    "duration": 77,
    "start_time": "2022-06-26T04:36:56.429Z"
   },
   {
    "duration": 77,
    "start_time": "2022-06-26T04:36:56.508Z"
   },
   {
    "duration": 73,
    "start_time": "2022-06-26T04:36:56.587Z"
   },
   {
    "duration": 74,
    "start_time": "2022-06-26T04:36:56.662Z"
   },
   {
    "duration": 3,
    "start_time": "2022-06-26T04:36:56.738Z"
   },
   {
    "duration": 118,
    "start_time": "2022-06-26T04:36:56.743Z"
   },
   {
    "duration": 92,
    "start_time": "2022-06-26T04:36:56.863Z"
   },
   {
    "duration": 73,
    "start_time": "2022-06-26T04:36:56.957Z"
   },
   {
    "duration": 78,
    "start_time": "2022-06-26T04:36:57.032Z"
   },
   {
    "duration": 104,
    "start_time": "2022-06-26T04:36:57.112Z"
   },
   {
    "duration": 3,
    "start_time": "2022-06-26T04:37:44.907Z"
   },
   {
    "duration": 112,
    "start_time": "2022-06-26T04:41:11.277Z"
   },
   {
    "duration": 44,
    "start_time": "2022-06-26T04:44:09.007Z"
   },
   {
    "duration": 50,
    "start_time": "2022-06-26T04:44:15.731Z"
   },
   {
    "duration": 8,
    "start_time": "2022-06-26T04:46:26.913Z"
   },
   {
    "duration": 15,
    "start_time": "2022-06-26T04:46:26.923Z"
   },
   {
    "duration": 576,
    "start_time": "2022-06-26T04:46:26.939Z"
   },
   {
    "duration": 2111,
    "start_time": "2022-06-26T04:46:27.517Z"
   },
   {
    "duration": 6380,
    "start_time": "2022-06-26T04:46:29.629Z"
   },
   {
    "duration": 239,
    "start_time": "2022-06-26T04:46:36.010Z"
   },
   {
    "duration": 71,
    "start_time": "2022-06-26T04:46:36.251Z"
   },
   {
    "duration": 70,
    "start_time": "2022-06-26T04:46:36.323Z"
   },
   {
    "duration": 70,
    "start_time": "2022-06-26T04:46:36.395Z"
   },
   {
    "duration": 72,
    "start_time": "2022-06-26T04:46:36.467Z"
   },
   {
    "duration": 70,
    "start_time": "2022-06-26T04:46:36.540Z"
   },
   {
    "duration": 3,
    "start_time": "2022-06-26T04:46:36.611Z"
   },
   {
    "duration": 5,
    "start_time": "2022-06-26T04:46:36.616Z"
   },
   {
    "duration": 106,
    "start_time": "2022-06-26T04:46:36.623Z"
   },
   {
    "duration": 72,
    "start_time": "2022-06-26T04:46:36.731Z"
   },
   {
    "duration": 80,
    "start_time": "2022-06-26T04:46:36.805Z"
   },
   {
    "duration": 102,
    "start_time": "2022-06-26T04:46:36.886Z"
   },
   {
    "duration": 102,
    "start_time": "2022-06-26T04:48:09.523Z"
   },
   {
    "duration": 7,
    "start_time": "2022-06-26T21:41:16.103Z"
   },
   {
    "duration": 9,
    "start_time": "2022-06-26T21:41:16.112Z"
   },
   {
    "duration": 521,
    "start_time": "2022-06-26T21:41:16.122Z"
   },
   {
    "duration": 2183,
    "start_time": "2022-06-26T21:41:16.645Z"
   },
   {
    "duration": 12886,
    "start_time": "2022-06-26T21:41:18.831Z"
   },
   {
    "duration": 83,
    "start_time": "2022-06-26T21:41:31.719Z"
   },
   {
    "duration": 13,
    "start_time": "2022-06-26T21:41:31.804Z"
   },
   {
    "duration": 36,
    "start_time": "2022-06-26T21:41:31.818Z"
   },
   {
    "duration": 30,
    "start_time": "2022-06-26T21:41:31.856Z"
   },
   {
    "duration": 15,
    "start_time": "2022-06-26T21:41:31.889Z"
   },
   {
    "duration": 39,
    "start_time": "2022-06-26T21:41:31.906Z"
   },
   {
    "duration": 23,
    "start_time": "2022-06-26T21:41:31.948Z"
   },
   {
    "duration": 40,
    "start_time": "2022-06-26T21:41:31.974Z"
   },
   {
    "duration": 45,
    "start_time": "2022-06-26T21:41:32.016Z"
   },
   {
    "duration": 16,
    "start_time": "2022-06-26T21:41:32.063Z"
   },
   {
    "duration": 34,
    "start_time": "2022-06-26T21:41:32.081Z"
   },
   {
    "duration": 45,
    "start_time": "2022-06-26T21:41:32.117Z"
   }
  ],
  "kernelspec": {
   "display_name": "Python 3 (ipykernel)",
   "language": "python",
   "name": "python3"
  },
  "language_info": {
   "codemirror_mode": {
    "name": "ipython",
    "version": 3
   },
   "file_extension": ".py",
   "mimetype": "text/x-python",
   "name": "python",
   "nbconvert_exporter": "python",
   "pygments_lexer": "ipython3",
   "version": "3.9.7"
  },
  "toc": {
   "base_numbering": 1,
   "nav_menu": {},
   "number_sections": true,
   "sideBar": true,
   "skip_h1_title": true,
   "title_cell": "Table of Contents",
   "title_sidebar": "Contents",
   "toc_cell": false,
   "toc_position": {},
   "toc_section_display": true,
   "toc_window_display": false
  }
 },
 "nbformat": 4,
 "nbformat_minor": 5
}
